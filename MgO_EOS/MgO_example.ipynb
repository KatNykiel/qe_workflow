{
 "cells": [
  {
   "cell_type": "markdown",
   "metadata": {},
   "source": [
    "# MgO_example.ipynb\n",
    "### Bobby Appleton (edited from qe_test.ipynb by Kat Nykiel)\n",
    "## Objectives\n",
    "- query MgO structure from materials project\n",
    "- strain structure using pymatgen\n",
    "- generate QE input files with pymatgen for ionic relax\n",
    "- generate QE input files with pymatgen for volume relax with external pressure\n",
    "- submit QE jobs from notebook\n",
    "- plot and fit EOS for MgO"
   ]
  },
  {
   "cell_type": "markdown",
   "metadata": {},
   "source": [
    "### Query structure from materials project (new API)"
   ]
  },
  {
   "cell_type": "code",
   "execution_count": 1,
   "metadata": {},
   "outputs": [],
   "source": [
    "# Read in new API key\n",
    "import os, stat\n",
    "from IPython.display import clear_output\n",
    "\n",
    "# Read in new Materials Project API key, if one exists\n",
    "with open(os.path.expanduser('~/.mpkey.txt'), 'r') as f:\n",
    "    try:\n",
    "        key = f.readlines()[0]\n",
    "    except:\n",
    "        key = \"\"\n",
    "        \n",
    "# Check if API key already exists, skip try-except\n",
    "if not key:\n",
    "    # Prompt user for API key\n",
    "    try:\n",
    "        user = str(input())\n",
    "        clear_output()\n",
    "        if not user.isalnum():\n",
    "            raise TypeError('Wrong Key')\n",
    "        if user == None:\n",
    "            raise TypeError('Empty')\n",
    "        with open(os.path.expanduser('~/.mpkey.txt'), 'w') as keyfile:\n",
    "            keyfile.write(user)\n",
    "        os.chmod(os.path.expanduser('~/.mpkey.txt'), stat.S_IREAD | stat.S_IWRITE)\n",
    "        del user\n",
    "\n",
    "        print(\"Success\")\n",
    "    except:\n",
    "        print(\"Something seems wrong with your key\")"
   ]
  },
  {
   "cell_type": "code",
   "execution_count": 2,
   "metadata": {},
   "outputs": [
    {
     "name": "stderr",
     "output_type": "stream",
     "text": [
      "/apps/share64/debian10/anaconda/anaconda-7/envs/MATERIALS/lib/python3.8/site-packages/mp_api/client/client.py:139: builtins.UserWarning: Problem loading MPContribs client: \n",
      "/apps/share64/debian10/anaconda/anaconda-7/envs/MATERIALS/lib/python3.8/site-packages/maggma/api/utils.py:107: builtins.RuntimeWarning: fields may not start with an underscore, ignoring \"_framework_formula\"\n",
      "/apps/share64/debian10/anaconda/anaconda-7/envs/MATERIALS/lib/python3.8/site-packages/maggma/api/utils.py:107: builtins.RuntimeWarning: fields may not start with an underscore, ignoring \"_stable_entries\"\n",
      "/apps/share64/debian10/anaconda/anaconda-7/envs/MATERIALS/lib/python3.8/site-packages/maggma/api/utils.py:107: builtins.RuntimeWarning: fields may not start with an underscore, ignoring \"_unstable_entries\"\n"
     ]
    },
    {
     "data": {
      "application/vnd.jupyter.widget-view+json": {
       "model_id": "c76fa451f5dc45eaa7b9e0f2e8b4c487",
       "version_major": 2,
       "version_minor": 0
      },
      "text/plain": [
       "Retrieving SummaryDoc documents:   0%|          | 0/1 [00:00<?, ?it/s]"
      ]
     },
     "metadata": {},
     "output_type": "display_data"
    }
   ],
   "source": [
    "from mp_api.client import MPRester\n",
    "\n",
    "# Query using new API for material with ID of mp-1265 (MgO)\n",
    "with MPRester(key) as m:\n",
    "    data = m.summary.search(material_ids=[\"mp-1265\"])"
   ]
  },
  {
   "cell_type": "code",
   "execution_count": 3,
   "metadata": {},
   "outputs": [
    {
     "name": "stdout",
     "output_type": "stream",
     "text": [
      "Full Formula (Mg1 O1)\n",
      "Reduced Formula: MgO\n",
      "abc   :   3.009789   3.009789   3.009789\n",
      "angles:  60.000000  60.000000  60.000000\n",
      "Sites (2)\n",
      "  #  SP      a    b    c    magmom\n",
      "---  ----  ---  ---  ---  --------\n",
      "  0  Mg    0    0    0          -0\n",
      "  1  O     0.5  0.5  0.5        -0\n"
     ]
    }
   ],
   "source": [
    "struct = data[0].structure\n",
    "print(struct)"
   ]
  },
  {
   "cell_type": "markdown",
   "metadata": {},
   "source": [
    "### Strain structure using pymatgen"
   ]
  },
  {
   "cell_type": "code",
   "execution_count": 4,
   "metadata": {
    "scrolled": true
   },
   "outputs": [
    {
     "data": {
      "text/plain": [
       "(3.0097887004120407, 3.0097887004120407, 3.0097887004120407)"
      ]
     },
     "execution_count": 4,
     "metadata": {},
     "output_type": "execute_result"
    }
   ],
   "source": [
    "# Check lattice parameters before strain\n",
    "struct.lattice.abc"
   ]
  },
  {
   "cell_type": "code",
   "execution_count": 5,
   "metadata": {},
   "outputs": [],
   "source": [
    "# Apply strain to lattice\n",
    "struct.apply_strain(-0.1)"
   ]
  },
  {
   "cell_type": "code",
   "execution_count": 6,
   "metadata": {},
   "outputs": [
    {
     "data": {
      "text/plain": [
       "(2.7088098303708366, 2.7088098303708366, 2.7088098303708366)"
      ]
     },
     "execution_count": 6,
     "metadata": {},
     "output_type": "execute_result"
    }
   ],
   "source": [
    "# Check new lattice vectors\n",
    "struct.lattice.abc"
   ]
  },
  {
   "cell_type": "markdown",
   "metadata": {},
   "source": [
    "### Generate QE input files for ionic relax using pymatgen"
   ]
  },
  {
   "cell_type": "code",
   "execution_count": 7,
   "metadata": {},
   "outputs": [],
   "source": [
    "from pymatgen.io.pwscf import PWInput\n",
    "\n",
    "# Define input set\n",
    "input_set = PWInput(struct, \n",
    "                    pseudo={'Mg':'Mg.PBE.UPF','O':'O.PBE.UPF'}, \n",
    "                    control={'pseudo_dir':'./',\n",
    "                             'calculation':'relax',\n",
    "                             'outdir':'./',\n",
    "                             'tstress':True},\n",
    "                    system={'ecutwfc':40},\n",
    "                    kpoints_grid=[12,12,12])\n",
    "\n",
    "input_set.write_file(filename='ion_relax.in')\n",
    "\n",
    "# Define input and output files\n",
    "ion_rlx_input_file = open('ion_relax.in','a')\n",
    "ion_rlx_input_file.close()\n",
    "\n",
    "ion_rlx_output_file = open(\"ion_relax.out\", \"w\")"
   ]
  },
  {
   "cell_type": "code",
   "execution_count": 8,
   "metadata": {},
   "outputs": [],
   "source": [
    "# Run simulation\n",
    "pseudos = \"-i ./pseudo/Mg.PBE.UPF ./pseudo/O.PBE.UPF\"\n",
    "COMMANDrlx = f\"espresso-6.8_pw > {ion_rlx_output_file.name}\"\n",
    "!submit -n 1 -w '01:00:00' -e QE_DISABLE_GGA_PBE=0 --runName irlx {COMMANDrlx} {pseudos} -i {ion_rlx_input_file.name}\n",
    "ion_rlx_output_file.close()"
   ]
  },
  {
   "cell_type": "markdown",
   "metadata": {},
   "source": [
    "### Extract QE outputs using pymatgen"
   ]
  },
  {
   "cell_type": "code",
   "execution_count": 9,
   "metadata": {},
   "outputs": [],
   "source": [
    "from pymatgen.io.pwscf import PWOutput\n",
    "\n",
    "# Extract outputs\n",
    "output_set = PWOutput('irlx.stdout')"
   ]
  },
  {
   "cell_type": "code",
   "execution_count": 10,
   "metadata": {},
   "outputs": [
    {
     "data": {
      "text/plain": [
       "-75.45258451"
      ]
     },
     "execution_count": 10,
     "metadata": {},
     "output_type": "execute_result"
    }
   ],
   "source": [
    "output_set.final_energy"
   ]
  },
  {
   "cell_type": "code",
   "execution_count": 11,
   "metadata": {},
   "outputs": [
    {
     "name": "stdout",
     "output_type": "stream",
     "text": [
      "lattice_type\n",
      "ecut\n",
      "celldm1\n",
      "celldm2\n",
      "celldm3\n",
      "celldm4\n",
      "celldm5\n",
      "celldm6\n",
      "nkpts\n",
      "energies\n"
     ]
    },
    {
     "data": {
      "text/plain": [
       "[None, None, None, None, None, None, None, None, None, None]"
      ]
     },
     "execution_count": 11,
     "metadata": {},
     "output_type": "execute_result"
    }
   ],
   "source": [
    "[print(k) for k,v in output_set.data.items()]"
   ]
  },
  {
   "cell_type": "code",
   "execution_count": 12,
   "metadata": {},
   "outputs": [
    {
     "name": "stdout",
     "output_type": "stream",
     "text": [
      "[872.4]\n"
     ]
    }
   ],
   "source": [
    "# Extract stress manually\n",
    "output = open('irlx.stdout', \"r\")\n",
    "lines = output.readlines()\n",
    "P = []\n",
    "job_time = []\n",
    "for line in lines:\n",
    "    if 'P=' in line:\n",
    "        data = line.split()\n",
    "        P.append(float(data[5]))\n",
    "print(P)"
   ]
  },
  {
   "cell_type": "markdown",
   "metadata": {},
   "source": [
    "### Generate QE input files for volume relax using pymatgen"
   ]
  },
  {
   "cell_type": "code",
   "execution_count": 13,
   "metadata": {},
   "outputs": [],
   "source": [
    "from pymatgen.io.pwscf import PWInput\n",
    "\n",
    "# Define input set\n",
    "input_set = PWInput(struct, \n",
    "                    pseudo={'Mg':'Mg.PBE.UPF','O':'O.PBE.UPF'}, \n",
    "                    control={'pseudo_dir':'./',\n",
    "                             'calculation':'vc-relax',\n",
    "                             'outdir':'./',\n",
    "                             'tstress':True},\n",
    "                    system={'ecutwfc':40},\n",
    "                    cell={'press':P[0]},\n",
    "                   kpoints_grid=[12,12,12])\n",
    "\n",
    "input_set.write_file(filename='vol_relax.in')\n",
    "\n",
    "# Define input and output files\n",
    "vol_rlx_input_file = open('vol_relax.in','a')\n",
    "vol_rlx_input_file.close()\n",
    "\n",
    "vol_rlx_output_file = open(\"vol_relax.out\", \"w\")"
   ]
  },
  {
   "cell_type": "code",
   "execution_count": 14,
   "metadata": {},
   "outputs": [],
   "source": [
    "# Run simulation\n",
    "pseudos = \"-i ./pseudo/Mg.PBE.UPF ./pseudo/O.PBE.UPF\"\n",
    "COMMANDvcrlx = f\"espresso-6.8_pw > {vol_rlx_output_file.name}\"\n",
    "!submit -n 1 -w '01:00:00' -e QE_DISABLE_GGA_PBE=0 --runName vcrlx {COMMANDvcrlx} {pseudos} -i {vol_rlx_input_file.name}\n",
    "vol_rlx_output_file.close()"
   ]
  },
  {
   "cell_type": "markdown",
   "metadata": {},
   "source": [
    "### Extract QE outputs using pymatgen"
   ]
  },
  {
   "cell_type": "code",
   "execution_count": 15,
   "metadata": {},
   "outputs": [],
   "source": [
    "from pymatgen.io.pwscf import PWOutput\n",
    "\n",
    "# Extract outputs\n",
    "output_set = PWOutput('vcrlx.stdout')"
   ]
  },
  {
   "cell_type": "code",
   "execution_count": 16,
   "metadata": {},
   "outputs": [
    {
     "data": {
      "text/plain": [
       "-75.45258459"
      ]
     },
     "execution_count": 16,
     "metadata": {},
     "output_type": "execute_result"
    }
   ],
   "source": [
    "output_set.final_energy"
   ]
  },
  {
   "cell_type": "code",
   "execution_count": 17,
   "metadata": {},
   "outputs": [
    {
     "name": "stdout",
     "output_type": "stream",
     "text": [
      "[872.4, 868.72]\n"
     ]
    }
   ],
   "source": [
    "# Extract stress manually\n",
    "output = open('vcrlx.stdout', \"r\")\n",
    "lines = output.readlines()\n",
    "P = []\n",
    "job_time = []\n",
    "for line in lines:\n",
    "    if 'P=' in line:\n",
    "        data = line.split()\n",
    "        P.append(float(data[5]))\n",
    "print(P)"
   ]
  },
  {
   "cell_type": "code",
   "execution_count": null,
   "metadata": {},
   "outputs": [],
   "source": []
  }
 ],
 "metadata": {
  "kernelspec": {
   "display_name": "Python 3.8 (MATERIALS)",
   "language": "python",
   "name": "materials"
  },
  "language_info": {
   "codemirror_mode": {
    "name": "ipython",
    "version": 3
   },
   "file_extension": ".py",
   "mimetype": "text/x-python",
   "name": "python",
   "nbconvert_exporter": "python",
   "pygments_lexer": "ipython3",
   "version": "3.8.13"
  },
  "vscode": {
   "interpreter": {
    "hash": "90e97c2e1e3d049a0c4dcb4a1fbc9eb7147afc887ab317ded913de62d02f2d04"
   }
  }
 },
 "nbformat": 4,
 "nbformat_minor": 2
}
