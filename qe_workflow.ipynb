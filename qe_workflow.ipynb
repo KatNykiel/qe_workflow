{
 "cells": [
  {
   "cell_type": "markdown",
   "metadata": {},
   "source": [
    "# qe_workflow.ipynb\n",
    "### Kat Nykiel, Bobby Appleton, Saswat Mishra\n",
    "## Objectives\n",
    "The goal of this workflow is to be able to calculate **equations of state**, which are equations modeling *energy* or *pressure* as a function of *volume*. To generate these equations of state, we can use *density-functional theory* to calculate the energy at various different volumes.\n",
    "\n",
    "Broadly, the procedure we'll use is shown in the flowchart below. This notebook is intended to be a starting point, not a complete workflow\n",
    "\n",
    "![](./images/qe_diagram.png)\n",
    "\n",
    "We'll introduce each step in more detail as they appear in the notebook.\n",
    "```{admonition}\n",
    "Note: this notebook assumes you're vaguely familiar with python and Jupyter notebooks. If you aren't , please reach out to one of us and we'll be able to help\n",
    "```\n",
    "\n"
   ]
  },
  {
   "cell_type": "markdown",
   "metadata": {},
   "source": [
    "To start, let's import the python libraries we'll be using throughout the notebook, and an addition script with helper functions.\n",
    "\n",
    "There will likely be a warning printed: this is fine. Not ideal, but it won't break the notebook"
   ]
  },
  {
   "cell_type": "code",
   "execution_count": null,
   "metadata": {},
   "outputs": [],
   "source": [
    "# Import libraries\n",
    "import numpy as np\n",
    "from mp_api.client import MPRester\n",
    "from pymatgen.io.pwscf import PWInput\n",
    "\n",
    "# Import helper functions\n",
    "from qe_functions import *"
   ]
  },
  {
   "cell_type": "markdown",
   "metadata": {},
   "source": [
    "## Query structure from Materials Project\n",
    "\n",
    "The first step of our workflow is choosing which system we want to simulate. Luckily, [Materials Project](https://materialsproject.org/) is an open database which catalogues information on tens of thousands of materials and their properties.\n",
    "\n",
    "If you don't have one already, now would be a good time to obtain an API key, which we'll use to connect to Materials Project. You can do so [here](https://materialsproject.org/api)\n",
    "\n",
    "Next, we want to choose our system of interest. Discuss with your group (?) which system you'd like to focus on, and use the Materials Project website to find the page for your material. It should look something like below.\n",
    "\n",
    "![](./images/mp_dashboard.png)\n",
    "\n",
    "**task:** Run the following cells to load your key and query for your specific mp-ID"
   ]
  },
  {
   "cell_type": "code",
   "execution_count": null,
   "metadata": {},
   "outputs": [],
   "source": [
    "# Load (or enter when prompted) your API key \n",
    "key = read_key()"
   ]
  },
  {
   "cell_type": "code",
   "execution_count": null,
   "metadata": {
    "scrolled": false
   },
   "outputs": [],
   "source": [
    "# Query using new Materials Project API for a specific ID\n",
    "with MPRester(key) as m:\n",
    "    data = m.summary.search(material_ids=[\"mp-1265\"]) # Change this to your chosen mp-ID"
   ]
  },
  {
   "cell_type": "markdown",
   "metadata": {},
   "source": [
    "This returns a lot of information, but right now we're just interested in the **structure** object. This is the Materials Project-preferred way to pass unit cell data (lattice, basis, etc.) in python"
   ]
  },
  {
   "cell_type": "code",
   "execution_count": null,
   "metadata": {
    "scrolled": true
   },
   "outputs": [],
   "source": [
    "struct = data[0].structure\n",
    "display(struct)"
   ]
  },
  {
   "cell_type": "markdown",
   "metadata": {},
   "source": [
    "To make sure you have the right structure, try running the cell below "
   ]
  },
  {
   "cell_type": "code",
   "execution_count": null,
   "metadata": {},
   "outputs": [],
   "source": [
    "# View structure\n",
    "view_struct(struct)"
   ]
  },
  {
   "cell_type": "markdown",
   "metadata": {},
   "source": [
    "## Strain structure\n",
    "Now that we have our structure object, we want to be able to run density-functional theory (DFT) at different points along the equation of state. This means we'll need to perform DFT at different volumes of our system.\n",
    "\n",
    "We take a multi-step process to simulate a high-pressure system, which is detailed below\n",
    "1. apply hydrostatic (equal) strain in all directions\n",
    "2. perform a relaxation where only the ions are allowed to move\n",
    "3. obtain the pressure calculated in the previous relaxation\n",
    "4. perform a relaxation at this target pressure where ions and lattice vectors can move"
   ]
  },
  {
   "cell_type": "markdown",
   "metadata": {},
   "source": [
    "As a starting point, we're applying a 10% strain in each direction. However, imagine that we want to simulate our system at a specific pressure, we want our initial estimate to be as close as possible.\n",
    "\n",
    "One method of doing this is to approximate the required strain using the *bulk modulus*, which is related to the pressure and volume as follows $$B=-V\\frac{\\partial P}{\\partial V}$$\n",
    "\n",
    "**** For a challenge, consider how we can query Materials Project for the bulk modulus and use this to approximate the strain required for a specific pressure"
   ]
  },
  {
   "cell_type": "code",
   "execution_count": null,
   "metadata": {
    "scrolled": true
   },
   "outputs": [],
   "source": [
    "# Check lattice parameters before strain\n",
    "struct.lattice.abc"
   ]
  },
  {
   "cell_type": "code",
   "execution_count": null,
   "metadata": {},
   "outputs": [],
   "source": [
    "# Apply uniform strain to lattice (10% compression in each direction)\n",
    "struct.apply_strain(-0.1)"
   ]
  },
  {
   "cell_type": "code",
   "execution_count": null,
   "metadata": {},
   "outputs": [],
   "source": [
    "# Check new lattice vectors\n",
    "struct.lattice.abc"
   ]
  },
  {
   "cell_type": "markdown",
   "metadata": {},
   "source": [
    "## Run density functional theory with quantum espresso\n",
    "\n",
    "Next, we want to run two DFT calculations: an ionic relaxation, followed by a variable cell relaxation at a fixed pressure. \n",
    "\n",
    "We'll be doing this using [**quantum espresso**](https://www.quantum-espresso.org/) (QE), an open-source code for DFT. To make it easier to create input files, we're going to continue using *pymatgen*, a python library for computational materials science\n",
    "\n",
    "In this example, we'll use a set of project-augmented wave (PAW) pseudopotentials with a Perdew–Burke–Ernzerhof (PBE) exchange-correlation functional. Several other choices are found [here](https://www.quantum-espresso.org/pseudopotentials/) "
   ]
  },
  {
   "cell_type": "markdown",
   "metadata": {},
   "source": [
    "### Generate QE input files using pymatgen\n",
    "These two functions will let us create and run QE simulations from a Jupyter notebook, which makes it much easier to automate than manually editing the files. "
   ]
  },
  {
   "cell_type": "code",
   "execution_count": null,
   "metadata": {},
   "outputs": [],
   "source": [
    "def make_sim(name,struct,**kwargs):\n",
    "    \"\"\"\n",
    "    Generate quantum espresso input files using pymatgen's PWInput class\n",
    "    \n",
    "    Inputs:\n",
    "        name: chosen name for your simulation (i.e. ionic_relax)\n",
    "        struct: pymatgen structure object \n",
    "    Outputs: \n",
    "        n/a\n",
    "    **kwargs:\n",
    "        dictionaries to input to pymatgen's PWInput object\n",
    "    \"\"\"\n",
    "    # Prepare dict of pseudopotentials (i.e. {'Mg': 'Mg.upf', 'O': 'O.upf'})\n",
    "    elements = np.unique([site.species.elements[0].symbol for site in struct.sites])\n",
    "    pseudo_dict = dict(zip(elements,[f\"{element}.upf\" for element in elements]))\n",
    "\n",
    "    # Define input set\n",
    "    input_set = PWInput(structure=struct,\n",
    "                        pseudo=pseudo_dict,\n",
    "                        **kwargs) # dictionaries corresponding to blocks in QE input files\n",
    "\n",
    "    input_set.write_file(filename=f'{name}.in')\n",
    "    \n",
    "def run_sim(name,struct):\n",
    "    \"\"\"\n",
    "    Submit quantum espresso runs to HPC clusters on nanoHUB\n",
    "    \n",
    "    Inputs:\n",
    "        name: chosen name for your simulation (i.e. ionic_relax)\n",
    "        struct: pymatgen structure object \n",
    "    Outputs: \n",
    "        n/a\n",
    "    \"\"\"\n",
    "    # Write input and output files\n",
    "    input_file = open(f'{name}.in','a')\n",
    "    input_file.close()\n",
    "\n",
    "    output_file = open(f'{name}.out', 'w')\n",
    "    output_file.close()\n",
    "    \n",
    "    # Set up commands and files\n",
    "    elements = np.unique([site.species.elements[0].symbol for site in struct.sites])\n",
    "    pseudo_arg = \"\".join([f\"-i ./pseudo/pseudo_PAW/{element}.upf \" for element in elements])\n",
    "    COMMAND = f\"espresso-6.8_pw > {output_file.name}\"\n",
    "    \n",
    "    # Run simulation (1 node, 1 hour walltime)\n",
    "    !submit -n 1 -w '01:00:00' -e QE_DISABLE_GGA_PBE=0 --runName {name} {COMMAND} {pseudo_arg} -i {input_file.name}\n"
   ]
  },
  {
   "cell_type": "markdown",
   "metadata": {},
   "source": [
    "### Run an ionic relaxation of our strained structure\n",
    "Let's use our two functions to run an ionic relaxation in quantum espresso. The parameters of the simulation are controlled via tags, which are found [here](https://www.quantum-espresso.org/Doc/INPUT_PW.html). They are controlled by blocks (control, system, etc.) and passed to our function as dictionaries of tags\n",
    "\n",
    "**** The kinetic energy cutoff (ecutwfc) and kpoints (kpoints_grid) have a significant effect on the convergence of the simulation. In DFT, we typically hold one parameter at a high value and vary the other to determine what minimum is necessary for convergence with respect to some property (i.e. lattice parameter)."
   ]
  },
  {
   "cell_type": "code",
   "execution_count": null,
   "metadata": {},
   "outputs": [],
   "source": [
    "# Create an ionic relaxation sim\n",
    "make_sim(\"relax\", struct,\n",
    "         control={'pseudo_dir':'./',\n",
    "                  'calculation':'relax',\n",
    "                  'outdir':'./',\n",
    "                  'tstress':True},\n",
    "         system={'ecutwfc':50},\n",
    "         kpoints_grid=[3,3,3])"
   ]
  },
  {
   "cell_type": "markdown",
   "metadata": {},
   "source": [
    "The input file should be made! Check your directory for a *relax.in* file. This is what quantum espresso uses to determine which simulation to run."
   ]
  },
  {
   "cell_type": "code",
   "execution_count": null,
   "metadata": {},
   "outputs": [],
   "source": [
    "# Run relax simulation\n",
    "run_sim(\"relax\", struct)"
   ]
  },
  {
   "cell_type": "markdown",
   "metadata": {},
   "source": [
    "This simulation should take 3-5 minutes to run. If it takes longer, consider lowering the kinetic energy cutoff or kpoint size, or choosing a smaller system. \n",
    "\n",
    "Once it's done, run the following cells to extract some outputs"
   ]
  },
  {
   "cell_type": "code",
   "execution_count": null,
   "metadata": {},
   "outputs": [],
   "source": [
    "# Extract outputs using helper function\n",
    "relax_dict = get_qe_outputs('relax.stdout')\n",
    "relaxed_struct = relax_dict['structures']\n",
    "# ^^^ This structure is not consistent, and might be empty\n",
    "try:\n",
    "    display(relaxed_struct[-1])\n",
    "except:\n",
    "    pass\n",
    "### TODO: write a better output parser - past Kat to future Kat"
   ]
  },
  {
   "cell_type": "code",
   "execution_count": null,
   "metadata": {},
   "outputs": [],
   "source": [
    "# Get a list of all the extracted outputs\n",
    "[print(k) for k,v in relax_dict.items()];"
   ]
  },
  {
   "cell_type": "code",
   "execution_count": null,
   "metadata": {},
   "outputs": [],
   "source": [
    "# Check a plot of energy as a function of step to see if our run is converging\n",
    "get_convergence_plots(step_dict=relax_dict,sim_name='ionic relax')"
   ]
  },
  {
   "cell_type": "markdown",
   "metadata": {},
   "source": [
    "Now let's do a variable-cell relaxation"
   ]
  },
  {
   "cell_type": "code",
   "execution_count": null,
   "metadata": {},
   "outputs": [],
   "source": [
    "# Create a variable-cell relaxation sim\n",
    "make_sim(\"vcrelax\", struct,\n",
    "         control={'pseudo_dir':'./',\n",
    "                  'calculation':'vc-relax',\n",
    "                  'outdir':'./',\n",
    "                  'tstress':True},\n",
    "         cell={'press':relax_dict['pressure'][-1]},\n",
    "         system={'ecutwfc':50},\n",
    "         kpoints_grid=[3,3,3])\n",
    "# Run vc-relax simulation\n",
    "run_sim(\"vcrelax\", struct)"
   ]
  },
  {
   "cell_type": "code",
   "execution_count": null,
   "metadata": {
    "scrolled": true
   },
   "outputs": [],
   "source": [
    "# Extract final energy and pressure\n",
    "vcrelax_dict = get_qe_outputs('vcrelax.stdout')\n",
    "final_energy = vcrelax_dict['ionic_energies'][-1]\n",
    "print(f\"{final_energy} Ry\\n{vcrelax_dict['pressure'][-1]} kbar\")"
   ]
  },
  {
   "cell_type": "code",
   "execution_count": null,
   "metadata": {},
   "outputs": [],
   "source": [
    "# View structure\n",
    "vcrelaxed_struct = vcrelax_dict['structures']\n",
    "try:\n",
    "    display(vcrelaxed_struct[-1])\n",
    "except:\n",
    "    pass"
   ]
  },
  {
   "cell_type": "code",
   "execution_count": null,
   "metadata": {},
   "outputs": [],
   "source": [
    "# Check a plot of energy as a function of step to see if our run is converging\n",
    "get_convergence_plots(step_dict=vcrelax_dict,sim_name='vc-relax')"
   ]
  },
  {
   "cell_type": "code",
   "execution_count": null,
   "metadata": {},
   "outputs": [],
   "source": []
  }
 ],
 "metadata": {
  "kernelspec": {
   "display_name": "Python 3.8 (MATERIALS)",
   "language": "python",
   "name": "materials"
  },
  "language_info": {
   "codemirror_mode": {
    "name": "ipython",
    "version": 3
   },
   "file_extension": ".py",
   "mimetype": "text/x-python",
   "name": "python",
   "nbconvert_exporter": "python",
   "pygments_lexer": "ipython3",
   "version": "3.8.13"
  },
  "vscode": {
   "interpreter": {
    "hash": "90e97c2e1e3d049a0c4dcb4a1fbc9eb7147afc887ab317ded913de62d02f2d04"
   }
  }
 },
 "nbformat": 4,
 "nbformat_minor": 2
}
