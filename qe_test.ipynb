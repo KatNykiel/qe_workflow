{
 "cells": [
  {
   "cell_type": "markdown",
   "metadata": {},
   "source": [
    "# qe_test.ipynb\n",
    "### Kat Nykiel\n",
    "## Objectives\n",
    "- query structure from materials project\n",
    "- strain structure using pymatgen\n",
    "- generate QE input files with pymatgen\n",
    "- submit QE job"
   ]
  },
  {
   "cell_type": "markdown",
   "metadata": {},
   "source": [
    "### Query structure from materials project (new API)"
   ]
  },
  {
   "cell_type": "code",
   "execution_count": null,
   "metadata": {},
   "outputs": [],
   "source": [
    "from mp_api.client import MPRester"
   ]
  },
  {
   "cell_type": "code",
   "execution_count": null,
   "metadata": {},
   "outputs": [],
   "source": [
    "# Read in new Materials Project API key\n",
    "with open(os.path.expanduser('~/keys.txt'), 'r') as f:\n",
    "    key = f.readlines()[0]\n",
    "    \n",
    "# Query using new API for material with ID of mp-149 (Si)\n",
    "with MPRester(key) as m:\n",
    "    data = m.summary.search(material_ids=[\"mp-149\"])"
   ]
  },
  {
   "cell_type": "code",
   "execution_count": null,
   "metadata": {},
   "outputs": [],
   "source": [
    "struct = data[0].structure\n",
    "print(struct)"
   ]
  },
  {
   "cell_type": "markdown",
   "metadata": {},
   "source": [
    "### Strain structure using pymatgen"
   ]
  },
  {
   "cell_type": "code",
   "execution_count": null,
   "metadata": {},
   "outputs": [],
   "source": [
    "# Check lattice parameters before strain\n",
    "struct.lattice.abc"
   ]
  },
  {
   "cell_type": "code",
   "execution_count": null,
   "metadata": {},
   "outputs": [],
   "source": [
    "# Apply strain to lattice\n",
    "struct.apply_strain(0.1)"
   ]
  },
  {
   "cell_type": "code",
   "execution_count": null,
   "metadata": {},
   "outputs": [],
   "source": [
    "# Check new lattice vectors\n",
    "struct.lattice.abc"
   ]
  },
  {
   "cell_type": "markdown",
   "metadata": {},
   "source": [
    "### Generate QE input files using pymatgen"
   ]
  },
  {
   "cell_type": "code",
   "execution_count": null,
   "metadata": {},
   "outputs": [],
   "source": [
    "from pymatgen.io.pwscf import PWInput\n",
    "input_set = PWInput(struct, pseudo={'Si':'Si.PBE.UPF'})\n",
    "input_set.write_file(filename='Si.in')"
   ]
  },
  {
   "cell_type": "code",
   "execution_count": null,
   "metadata": {},
   "outputs": [],
   "source": [
    "! < Si.in > Si.out"
   ]
  },
  {
   "cell_type": "markdown",
   "metadata": {},
   "source": [
    "### Extract QE outputs using pymatgen"
   ]
  },
  {
   "cell_type": "code",
   "execution_count": null,
   "metadata": {},
   "outputs": [],
   "source": [
    "from pymatgen.io.pwscf import PWOutput\n",
    "output_set = PWOutput('Si.out')"
   ]
  },
  {
   "cell_type": "code",
   "execution_count": null,
   "metadata": {},
   "outputs": [],
   "source": [
    "output_set.final_energy"
   ]
  },
  {
   "cell_type": "code",
   "execution_count": null,
   "metadata": {},
   "outputs": [],
   "source": [
    "[print(k) for k,v in output_set.data.items()]"
   ]
  },
  {
   "cell_type": "code",
   "execution_count": null,
   "metadata": {},
   "outputs": [],
   "source": [
    "# Extract outputs using monty's regrep method\n",
    "output_dict = output_set.read_pattern(patterns={'energy':r\"energy\\(sigma->0\\)\\s+=\\s+([\\d\\-.]+)\"})"
   ]
  },
  {
   "cell_type": "code",
   "execution_count": null,
   "metadata": {},
   "outputs": [],
   "source": []
  }
 ],
 "metadata": {
  "kernelspec": {
   "display_name": "Python 3.9.13 ('atomate2': conda)",
   "language": "python",
   "name": "python3"
  },
  "language_info": {
   "codemirror_mode": {
    "name": "ipython",
    "version": 3
   },
   "file_extension": ".py",
   "mimetype": "text/x-python",
   "name": "python",
   "nbconvert_exporter": "python",
   "pygments_lexer": "ipython3",
   "version": "3.9.13"
  },
  "orig_nbformat": 4,
  "vscode": {
   "interpreter": {
    "hash": "90e97c2e1e3d049a0c4dcb4a1fbc9eb7147afc887ab317ded913de62d02f2d04"
   }
  }
 },
 "nbformat": 4,
 "nbformat_minor": 2
}
