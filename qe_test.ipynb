{
 "cells": [
  {
   "cell_type": "markdown",
   "metadata": {},
   "source": [
    "# qe_test.ipynb\n",
    "### Kat Nykiel\n",
    "## Objectives\n",
    "- query structure from materials project\n",
    "- strain structure using pymatgen\n",
    "- generate QE input files with pymatgen\n",
    "- submit QE job"
   ]
  },
  {
   "cell_type": "markdown",
   "metadata": {},
   "source": [
    "### Query structure from materials project (new API)"
   ]
  },
  {
   "cell_type": "code",
   "execution_count": null,
   "metadata": {},
   "outputs": [],
   "source": [
    "# Read in new API key\n",
    "import os, stat\n",
    "from IPython.display import clear_output\n",
    "\n",
    "# TOOD: Check if API key already exists, skip try-except\n",
    "\n",
    "# Prompt user for API key\n",
    "try:\n",
    "    user = str(input())\n",
    "    clear_output()\n",
    "    if not user.isalnum():\n",
    "        raise TypeError('Wrong Key')\n",
    "    if user == None:\n",
    "        raise TypeError('Empty')\n",
    "    with open(os.path.expanduser('~/.mpkey.txt'), 'w') as keyfile:\n",
    "        keyfile.write(user)\n",
    "    os.chmod(os.path.expanduser('~/.mpkey.txt'), stat.S_IREAD | stat.S_IWRITE)\n",
    "    del user\n",
    "    \n",
    "    print(\"Success\")\n",
    "except:\n",
    "    print(\"Something seems wrong with your key\")\n",
    "    \n",
    "# Read in new Materials Project API key\n",
    "with open(os.path.expanduser('~/.mpkey.txt'), 'r') as f:\n",
    "    key = f.readlines()[0]"
   ]
  },
  {
   "cell_type": "code",
   "execution_count": null,
   "metadata": {},
   "outputs": [],
   "source": [
    "from mp_api.client import MPRester\n",
    "\n",
    "# Query using new API for material with ID of mp-149 (Si)\n",
    "with MPRester(key) as m:\n",
    "    data = m.summary.search(material_ids=[\"mp-149\"])"
   ]
  },
  {
   "cell_type": "code",
   "execution_count": null,
   "metadata": {},
   "outputs": [],
   "source": [
    "struct = data[0].structure\n",
    "print(struct)"
   ]
  },
  {
   "cell_type": "markdown",
   "metadata": {},
   "source": [
    "### Strain structure using pymatgen"
   ]
  },
  {
   "cell_type": "code",
   "execution_count": null,
   "metadata": {
    "scrolled": true
   },
   "outputs": [],
   "source": [
    "# Check lattice parameters before strain\n",
    "struct.lattice.abc"
   ]
  },
  {
   "cell_type": "code",
   "execution_count": null,
   "metadata": {},
   "outputs": [],
   "source": [
    "# Apply strain to lattice\n",
    "struct.apply_strain(-0.01)"
   ]
  },
  {
   "cell_type": "code",
   "execution_count": null,
   "metadata": {},
   "outputs": [],
   "source": [
    "# Check new lattice vectors\n",
    "struct.lattice.abc"
   ]
  },
  {
   "cell_type": "markdown",
   "metadata": {},
   "source": [
    "### Generate QE input files using pymatgen"
   ]
  },
  {
   "cell_type": "code",
   "execution_count": null,
   "metadata": {},
   "outputs": [],
   "source": [
    "from pymatgen.io.pwscf import PWInput\n",
    "\n",
    "# Define input set\n",
    "input_set = PWInput(struct, \n",
    "                    pseudo={'Si':'Si.PBE.UPF'}, \n",
    "                    control={'pseudo_dir':'./',\n",
    "                             'calculation':'scf',\n",
    "                             'outdir':'./'})\n",
    "\n",
    "input_set.write_file(filename='scf.in')\n",
    "\n",
    "# Define input and output files\n",
    "scf_input_file = open('scf.in','a')\n",
    "scf_input_file.close()\n",
    "\n",
    "scf_output_file = open(\"scf.out\", \"w\")"
   ]
  },
  {
   "cell_type": "code",
   "execution_count": null,
   "metadata": {},
   "outputs": [],
   "source": [
    "# Run simulation\n",
    "pseudos = \"-i ./pseudo/Si.PBE.UPF\"\n",
    "COMMANDscf = f\"espresso-6.8_pw > {scf_output_file.name}\"\n",
    "!submit -n 1 -w '01:00:00' -e QE_DISABLE_GGA_PBE=0 --runName scf {COMMANDscf} {pseudos} -i {scf_input_file.name}\n",
    "scf_output_file.close()"
   ]
  },
  {
   "cell_type": "markdown",
   "metadata": {},
   "source": [
    "### Extract QE outputs using pymatgen"
   ]
  },
  {
   "cell_type": "code",
   "execution_count": null,
   "metadata": {},
   "outputs": [],
   "source": [
    "from pymatgen.io.pwscf import PWOutput\n",
    "\n",
    "# Extract outputs\n",
    "output_set = PWOutput('scf.stdout')"
   ]
  },
  {
   "cell_type": "code",
   "execution_count": null,
   "metadata": {},
   "outputs": [],
   "source": [
    "output_set.final_energy"
   ]
  },
  {
   "cell_type": "code",
   "execution_count": null,
   "metadata": {},
   "outputs": [],
   "source": [
    "[print(k) for k,v in output_set.data.items()]"
   ]
  },
  {
   "cell_type": "code",
   "execution_count": null,
   "metadata": {},
   "outputs": [],
   "source": []
  }
 ],
 "metadata": {
  "kernelspec": {
   "display_name": "Python 3.8 (MATERIALS)",
   "language": "python",
   "name": "materials"
  },
  "language_info": {
   "codemirror_mode": {
    "name": "ipython",
    "version": 3
   },
   "file_extension": ".py",
   "mimetype": "text/x-python",
   "name": "python",
   "nbconvert_exporter": "python",
   "pygments_lexer": "ipython3",
   "version": "3.8.13"
  },
  "vscode": {
   "interpreter": {
    "hash": "90e97c2e1e3d049a0c4dcb4a1fbc9eb7147afc887ab317ded913de62d02f2d04"
   }
  }
 },
 "nbformat": 4,
 "nbformat_minor": 2
}
