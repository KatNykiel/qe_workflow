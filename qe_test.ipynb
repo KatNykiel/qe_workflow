{
 "cells": [
  {
   "cell_type": "markdown",
   "metadata": {},
   "source": [
    "# qe_test.ipynb\n",
    "### Kat Nykiel\n",
    "## Objectives\n",
    "- query structure from materials project\n",
    "- strain structure using pymatgen\n",
    "- generate QE input files with pymatgen\n",
    "- submit QE job"
   ]
  },
  {
   "cell_type": "markdown",
   "metadata": {},
   "source": [
    "### Query structure from materials project (new API)"
   ]
  },
  {
   "cell_type": "code",
   "execution_count": 1,
   "metadata": {},
   "outputs": [
    {
     "name": "stderr",
     "output_type": "stream",
     "text": [
      "/home/knykiel/.conda/envs/cent7/2020.02-py37/atomate2/lib/python3.9/site-packages/pymatgen/analysis/phase_diagram.py:26: TqdmExperimentalWarning: Using `tqdm.autonotebook.tqdm` in notebook mode. Use `tqdm.tqdm` instead to force console mode (e.g. in jupyter console)\n",
      "  from tqdm.autonotebook import tqdm\n"
     ]
    }
   ],
   "source": [
    "from mp_api.client import MPRester"
   ]
  },
  {
   "cell_type": "code",
   "execution_count": 2,
   "metadata": {},
   "outputs": [
    {
     "data": {
      "application/vnd.jupyter.widget-view+json": {
       "model_id": "92166f88447044c8afdaa51ba2feb9ef",
       "version_major": 2,
       "version_minor": 0
      },
      "text/plain": [
       "Retrieving SummaryDoc documents:   0%|          | 0/1 [00:00<?, ?it/s]"
      ]
     },
     "metadata": {},
     "output_type": "display_data"
    }
   ],
   "source": [
    "# Read in new Materials Project API key\n",
    "with open(os.path.expanduser('~/keys.txt'), 'r') as f:\n",
    "    key = f.readlines()[0]\n",
    "    \n",
    "# Query using new API for material with ID of mp-149 (Si)\n",
    "with MPRester(key) as m:\n",
    "    data = m.summary.search(material_ids=[\"mp-149\"])"
   ]
  },
  {
   "cell_type": "code",
   "execution_count": 3,
   "metadata": {},
   "outputs": [
    {
     "name": "stdout",
     "output_type": "stream",
     "text": [
      "Full Formula (Si2)\n",
      "Reduced Formula: Si\n",
      "abc   :   3.866975   3.866975   3.866975\n",
      "angles:  60.000000  60.000000  60.000000\n",
      "pbc   :       True       True       True\n",
      "Sites (2)\n",
      "  #  SP       a     b     c    magmom\n",
      "---  ----  ----  ----  ----  --------\n",
      "  0  Si    0.25  0.25  0.25        -0\n",
      "  1  Si    0     0     0           -0\n"
     ]
    }
   ],
   "source": [
    "struct = data[0].structure\n",
    "print(struct)"
   ]
  },
  {
   "cell_type": "markdown",
   "metadata": {},
   "source": [
    "### Strain structure using pymatgen"
   ]
  },
  {
   "cell_type": "code",
   "execution_count": 4,
   "metadata": {},
   "outputs": [
    {
     "data": {
      "text/plain": [
       "(3.8669746532647453, 3.8669746532647453, 3.8669746532647453)"
      ]
     },
     "execution_count": 4,
     "metadata": {},
     "output_type": "execute_result"
    }
   ],
   "source": [
    "# Check lattice parameters before strain\n",
    "struct.lattice.abc"
   ]
  },
  {
   "cell_type": "code",
   "execution_count": 5,
   "metadata": {},
   "outputs": [],
   "source": [
    "# Apply strain to lattice\n",
    "struct.apply_strain(0.1)"
   ]
  },
  {
   "cell_type": "code",
   "execution_count": 6,
   "metadata": {},
   "outputs": [
    {
     "data": {
      "text/plain": [
       "(4.25367211859122, 4.25367211859122, 4.25367211859122)"
      ]
     },
     "execution_count": 6,
     "metadata": {},
     "output_type": "execute_result"
    }
   ],
   "source": [
    "# Check new lattice vectors\n",
    "struct.lattice.abc"
   ]
  },
  {
   "cell_type": "markdown",
   "metadata": {},
   "source": [
    "### Generate QE input files using pymatgen"
   ]
  },
  {
   "cell_type": "code",
   "execution_count": 13,
   "metadata": {},
   "outputs": [],
   "source": [
    "from pymatgen.io.pwscf import PWInput\n",
    "input_set = PWInput(struct, pseudo={'Si':'Si.PBE.UPF'}, control={'calculation':'scf'})\n",
    "input_set.write_file(filename='Si.in')"
   ]
  },
  {
   "cell_type": "code",
   "execution_count": null,
   "metadata": {},
   "outputs": [],
   "source": [
    "! < Si.in > Si.out"
   ]
  },
  {
   "cell_type": "markdown",
   "metadata": {},
   "source": [
    "### Extract QE outputs using pymatgen"
   ]
  },
  {
   "cell_type": "code",
   "execution_count": 8,
   "metadata": {},
   "outputs": [],
   "source": [
    "from pymatgen.io.pwscf import PWOutput\n",
    "output_set = PWOutput('Si.out')"
   ]
  },
  {
   "cell_type": "markdown",
   "metadata": {},
   "source": []
  },
  {
   "cell_type": "code",
   "execution_count": 9,
   "metadata": {},
   "outputs": [
    {
     "data": {
      "text/plain": [
       "-63.06668263"
      ]
     },
     "execution_count": 9,
     "metadata": {},
     "output_type": "execute_result"
    }
   ],
   "source": [
    "output_set.final_energy"
   ]
  },
  {
   "cell_type": "markdown",
   "metadata": {},
   "source": [
    "TODO: run in nanoHUB with jupyter70 tool\n",
    "run a standard relaxation\n",
    "query elastic modulus, get better strain calc\n",
    "atomic relaxation, then cell relaxation\n",
    "reproduce convex hull calculations at different pressures\n",
    "how do we divide this into the most logical pices?\n",
    "symmetry: make sure pymatgen puts the crystal symmetry in the problem, enforce symmetry from pymatgen detected space group\n",
    "MgO example (B1, NaCl-> B2, CsCl), transition at 50 GPa\n",
    "meeting on friday, plan for wednesday lecture"
   ]
  },
  {
   "cell_type": "code",
   "execution_count": 12,
   "metadata": {},
   "outputs": [
    {
     "name": "stdout",
     "output_type": "stream",
     "text": [
      "lattice_type\n",
      "ecut\n",
      "celldm1\n",
      "celldm2\n",
      "celldm3\n",
      "celldm4\n",
      "celldm5\n",
      "celldm6\n",
      "nkpts\n",
      "energies\n"
     ]
    },
    {
     "data": {
      "text/plain": [
       "[None, None, None, None, None, None, None, None, None, None]"
      ]
     },
     "execution_count": 12,
     "metadata": {},
     "output_type": "execute_result"
    }
   ],
   "source": [
    "[print(k) for k,v in output_set.data.items()]"
   ]
  },
  {
   "cell_type": "code",
   "execution_count": null,
   "metadata": {},
   "outputs": [],
   "source": []
  },
  {
   "cell_type": "code",
   "execution_count": 11,
   "metadata": {},
   "outputs": [],
   "source": [
    "# Extract outputs using monty's regrep method\n",
    "output_set.read_pattern(patterns={'energy':r\"energy\\(sigma->0\\)\\s+=\\s+([\\d\\-.]+)\"})"
   ]
  },
  {
   "cell_type": "code",
   "execution_count": null,
   "metadata": {},
   "outputs": [],
   "source": []
  }
 ],
 "metadata": {
  "kernelspec": {
   "display_name": "Python 3.9.13 ('atomate2': conda)",
   "language": "python",
   "name": "python3"
  },
  "language_info": {
   "codemirror_mode": {
    "name": "ipython",
    "version": 3
   },
   "file_extension": ".py",
   "mimetype": "text/x-python",
   "name": "python",
   "nbconvert_exporter": "python",
   "pygments_lexer": "ipython3",
   "version": "3.9.13"
  },
  "orig_nbformat": 4,
  "vscode": {
   "interpreter": {
    "hash": "90e97c2e1e3d049a0c4dcb4a1fbc9eb7147afc887ab317ded913de62d02f2d04"
   }
  }
 },
 "nbformat": 4,
 "nbformat_minor": 2
}
